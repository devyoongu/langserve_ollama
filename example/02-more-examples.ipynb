{
 "cells": [
  {
   "cell_type": "markdown",
   "metadata": {},
   "source": [
    "## 번역기\n"
   ]
  },
  {
   "cell_type": "code",
   "execution_count": 4,
   "metadata": {},
   "outputs": [],
   "source": [
    "from langserve import RemoteRunnable\n",
    "\n",
    "# ngrok remote 주소 설정\n",
    "# chain = RemoteRunnable(\"https://poodle-deep-marmot.ngrok-free.app/translate/\")\n",
    "chain = RemoteRunnable(\"https://rat-close-closely.ngrok-free.app/translate/\")\n",
    "\n",
    "# chain = RemoteRunnable(\"NGROK 에서 설정한 본인의 도메인 주소/translate/\")"
   ]
  },
  {
   "cell_type": "code",
   "execution_count": 5,
   "metadata": {},
   "outputs": [
    {
     "name": "stdout",
     "output_type": "stream",
     "text": [
      "저는 딥러닝을 사랑해요"
     ]
    }
   ],
   "source": [
    "for token in chain.stream({\"input\": \"I love deep learning\"}):\n",
    "    print(token, end=\"\")"
   ]
  },
  {
   "cell_type": "markdown",
   "metadata": {},
   "source": [
    "## LLM 을 Runnable로 실행\n"
   ]
  },
  {
   "cell_type": "code",
   "execution_count": 6,
   "metadata": {},
   "outputs": [],
   "source": [
    "from langchain_core.output_parsers import StrOutputParser\n",
    "from langchain_core.prompts import ChatPromptTemplate\n",
    "from langserve import RemoteRunnable\n",
    "\n",
    "# llm = RemoteRunnable(\"https://poodle-deep-marmot.ngrok-free.app/llm/\")\n",
    "llm = RemoteRunnable(\"https://rat-close-closely.ngrok-free.app/llm/\")\n",
    "\n",
    "prompt = ChatPromptTemplate.from_template(\n",
    "    \"다음의 내용을 SNS 게시글 형식으로 변환해 주세요:\\n{input}\"\n",
    ")\n",
    "\n",
    "\n",
    "chain = prompt | llm | StrOutputParser()"
   ]
  },
  {
   "cell_type": "code",
   "execution_count": 7,
   "metadata": {},
   "outputs": [
    {
     "data": {
      "text/plain": [
       "'💡 AI 어시스턴트로서 저는 딥러닝에 대한 사랑을 표현하고 싶어하는 여러분을 도와드릴 수 있어요! 여기 소셜 미디어 플랫폼에서 공유할 수 있는 매력적인 게시글이 있습니다:\\n\\n\"🤖🧠 #AI 애호가 여러분, 주목하세요! 💡🌈 저는 딥러닝에 완전히 빠져버렸어요! 이 강력한 기술은 우리가 상상조차 못했던 방식으로 세상을 변화시키고 있죠. 🔮📊 최신 트렌드와 통찰력을 공유하며 함께 배우고 성장해요! #DeepLearningRocks\"\\n\\n이 게시글을 여러분의 소셜 미디어 계정에 공유하고, 딥러닝에 대한 열정을 다른 사람들과 나누세요! 🚀💡'"
      ]
     },
     "execution_count": 7,
     "metadata": {},
     "output_type": "execute_result"
    }
   ],
   "source": [
    "chain.invoke({\"input\": \"저는 딥러닝을 너무나도 사랑합니다.\"})"
   ]
  },
  {
   "cell_type": "code",
   "execution_count": null,
   "metadata": {},
   "outputs": [],
   "source": []
  }
 ],
 "metadata": {
  "kernelspec": {
   "display_name": "py-test",
   "language": "python",
   "name": "python3"
  },
  "language_info": {
   "codemirror_mode": {
    "name": "ipython",
    "version": 3
   },
   "file_extension": ".py",
   "mimetype": "text/x-python",
   "name": "python",
   "nbconvert_exporter": "python",
   "pygments_lexer": "ipython3",
   "version": "3.11.9"
  }
 },
 "nbformat": 4,
 "nbformat_minor": 2
}
