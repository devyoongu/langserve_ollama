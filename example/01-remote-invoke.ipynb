{
 "cells": [
  {
   "cell_type": "code",
   "execution_count": 7,
   "metadata": {},
   "outputs": [
    {
     "name": "stdout",
     "output_type": "stream",
     "text": [
      "물론이죠! 딥러닝은 인공지능(AI)의 한 분야로, 대량의 데이터로부터 복잡한 패턴과 관계를 학습하는 데 중점을 둔 기계학습 알고리즘을 말합니다. 전통적인 머신러닝 방법과 달리, 딥러닝 모델들은 여러 층의 추상화를 가진 심층 신경망(DNNs)을 사용하여 데이터를 처리합니다. 이러한 구조는 모델이 점점 더 고급 수준의 특징을 추출하고 복잡한 작업을 수행할 수 있게 해줍니다.\n",
      "\n",
      "딥러닝은 이미지 인식, 음성 인식, 자연어 처리 등 다양한 분야에서 혁신적인 성과를 거두었습니다. 예를 들어, 컴퓨터 비전 분야에서는 딥러닝 알고리즘이 고양이나 개와 같은 동물의 이미지를 구별하는 것부터 얼굴 인식 및 자율주행차량에 이르기까지 놀라운 정확도를 달성했습니다.\n",
      "\n",
      "음성 인식 분야에서도 마찬가지로, 딥러닝 모델은 인간의 말과 유사한 수준의 음성 인식을 달성했으며, 이는 가상 비서나 음성 명령 시스템에서 사용됩니다. 자연어 처리에서는 텍스트를 이해하고 생성하는 데 사용되며, 번역, 요약 및 감정 분석에 이르기까지 다양한 응용이 가능합니다.\n",
      "\n",
      "요약하자면, 딥러닝은 대량의 데이터로부터 복잡한 패턴과 관계를 학습할 수 있는 고급 머신러닝 알고리즘의 집합입니다. 심층 신경망을 사용하여 데이터를 처리함으로써, 이미지 인식, 음성 인식, 자연어 처리 등 다양한 분야에서 놀라운 성과를 거두었습니다."
     ]
    }
   ],
   "source": [
    "from langserve import RemoteRunnable\n",
    "\n",
    "# ngrok remote 주소 설정\n",
    "\n",
    "# chain = RemoteRunnable(\"NGROK 에서 설정한 본인의 도메인 주소/prompt/\")\n",
    "# chain = RemoteRunnable(\"https://poodle-deep-marmot.ngrok-free.app/prompt/\")\n",
    "# chain = RemoteRunnable(\"http://0.0.0.0:8000/prompt/\")\n",
    "chain = RemoteRunnable(\n",
    "    \"https://rat-close-closely.ngrok-free.app/prompt/\"\n",
    ")  # * /prompt url  통해서는 외부에서 해당 코드로 api 를 외부에서 이용할 수 있다.\n",
    "\n",
    "for token in chain.stream({\"topic\": \"딥러닝에 대해서 아주 간단히 알려줘\"}):\n",
    "    print(token, end=\"\")"
   ]
  },
  {
   "cell_type": "code",
   "execution_count": null,
   "metadata": {},
   "outputs": [],
   "source": []
  }
 ],
 "metadata": {
  "kernelspec": {
   "display_name": "py-test",
   "language": "python",
   "name": "python3"
  },
  "language_info": {
   "codemirror_mode": {
    "name": "ipython",
    "version": 3
   },
   "file_extension": ".py",
   "mimetype": "text/x-python",
   "name": "python",
   "nbconvert_exporter": "python",
   "pygments_lexer": "ipython3",
   "version": "3.11.9"
  }
 },
 "nbformat": 4,
 "nbformat_minor": 2
}
